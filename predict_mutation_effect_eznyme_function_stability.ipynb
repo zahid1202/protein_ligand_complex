{
 "cells": [
  {
   "cell_type": "code",
   "execution_count": 4,
   "metadata": {},
   "outputs": [],
   "source": [
    "import os\n",
    "import pandas as pd"
   ]
  },
  {
   "cell_type": "code",
   "execution_count": 2,
   "metadata": {},
   "outputs": [
    {
     "data": {
      "text/plain": [
       "['Untitled.ipynb', 'platinum_flat_file.csv', '.ipynb_checkpoints']"
      ]
     },
     "execution_count": 2,
     "metadata": {},
     "output_type": "execute_result"
    }
   ],
   "source": [
    "os.listdir()"
   ]
  },
  {
   "cell_type": "code",
   "execution_count": 6,
   "metadata": {},
   "outputs": [],
   "source": [
    "df = pd.read_csv(\"platinum_flat_file.csv\")"
   ]
  },
  {
   "cell_type": "code",
   "execution_count": 7,
   "metadata": {},
   "outputs": [
    {
     "data": {
      "text/html": [
       "<div>\n",
       "<style scoped>\n",
       "    .dataframe tbody tr th:only-of-type {\n",
       "        vertical-align: middle;\n",
       "    }\n",
       "\n",
       "    .dataframe tbody tr th {\n",
       "        vertical-align: top;\n",
       "    }\n",
       "\n",
       "    .dataframe thead th {\n",
       "        text-align: right;\n",
       "    }\n",
       "</style>\n",
       "<table border=\"1\" class=\"dataframe\">\n",
       "  <thead>\n",
       "    <tr style=\"text-align: right;\">\n",
       "      <th></th>\n",
       "      <th>MUTATION</th>\n",
       "      <th>AFFIN.CHAIN</th>\n",
       "      <th>AFFIN.LIG_ID</th>\n",
       "      <th>AFFIN.LIG_NAME</th>\n",
       "      <th>AFFIN.PDB_ID</th>\n",
       "      <th>MUT.UNIPROT</th>\n",
       "      <th>AFFIN.EXPTAL_METHOD</th>\n",
       "      <th>AFFIN.TEMPERATURE</th>\n",
       "      <th>AFFIN.PH</th>\n",
       "      <th>AFFIN.K_WT</th>\n",
       "      <th>...</th>\n",
       "      <th>LIG.LOGP</th>\n",
       "      <th>LIG.FORMULA</th>\n",
       "      <th>LIG.NUM_ACCEPTORS</th>\n",
       "      <th>LIG.NUM_DONORS</th>\n",
       "      <th>LIG.NUM_HETEROATOMS</th>\n",
       "      <th>LIG.NUM_ROTATABLE_BONDS</th>\n",
       "      <th>LIG.NUM_RINGS</th>\n",
       "      <th>LIG.LABUTE_ASA</th>\n",
       "      <th>LIG.TPSA</th>\n",
       "      <th>PROT.PROTEIN_CLASS</th>\n",
       "    </tr>\n",
       "  </thead>\n",
       "  <tbody>\n",
       "    <tr>\n",
       "      <th>0</th>\n",
       "      <td>I84V</td>\n",
       "      <td>A</td>\n",
       "      <td>017</td>\n",
       "      <td>(3R,3AS,6AR)-HEXAHYDROFURO[2,3-B]FURAN-3- YL(1...</td>\n",
       "      <td>2IEN</td>\n",
       "      <td>P03367</td>\n",
       "      <td>kinetic</td>\n",
       "      <td>NR</td>\n",
       "      <td>5</td>\n",
       "      <td>1.000</td>\n",
       "      <td>...</td>\n",
       "      <td>3.4561</td>\n",
       "      <td>C27 H37 N3 O7 S</td>\n",
       "      <td>8</td>\n",
       "      <td>3</td>\n",
       "      <td>11</td>\n",
       "      <td>13</td>\n",
       "      <td>4</td>\n",
       "      <td>223.657720718</td>\n",
       "      <td>140.42</td>\n",
       "      <td>HYDROLASE</td>\n",
       "    </tr>\n",
       "    <tr>\n",
       "      <th>1</th>\n",
       "      <td>V82A</td>\n",
       "      <td>A</td>\n",
       "      <td>017</td>\n",
       "      <td>(3R,3AS,6AR)-HEXAHYDROFURO[2,3-B]FURAN-3- YL(1...</td>\n",
       "      <td>2IEN</td>\n",
       "      <td>P03367</td>\n",
       "      <td>kinetic</td>\n",
       "      <td>NR</td>\n",
       "      <td>5</td>\n",
       "      <td>1.000</td>\n",
       "      <td>...</td>\n",
       "      <td>3.4561</td>\n",
       "      <td>C27 H37 N3 O7 S</td>\n",
       "      <td>8</td>\n",
       "      <td>3</td>\n",
       "      <td>11</td>\n",
       "      <td>13</td>\n",
       "      <td>4</td>\n",
       "      <td>223.657720718</td>\n",
       "      <td>140.42</td>\n",
       "      <td>HYDROLASE</td>\n",
       "    </tr>\n",
       "    <tr>\n",
       "      <th>2</th>\n",
       "      <td>D30N/N88D</td>\n",
       "      <td>A</td>\n",
       "      <td>017</td>\n",
       "      <td>Darunavir</td>\n",
       "      <td>3LZV</td>\n",
       "      <td>P03369</td>\n",
       "      <td>ITC</td>\n",
       "      <td>NR</td>\n",
       "      <td>5</td>\n",
       "      <td>0.004</td>\n",
       "      <td>...</td>\n",
       "      <td>3.4561</td>\n",
       "      <td>C27 H37 N3 O7 S</td>\n",
       "      <td>8</td>\n",
       "      <td>3</td>\n",
       "      <td>11</td>\n",
       "      <td>13</td>\n",
       "      <td>4</td>\n",
       "      <td>223.657720718</td>\n",
       "      <td>140.42</td>\n",
       "      <td>HYDROLASE</td>\n",
       "    </tr>\n",
       "    <tr>\n",
       "      <th>3</th>\n",
       "      <td>G48V</td>\n",
       "      <td>A</td>\n",
       "      <td>017</td>\n",
       "      <td>Darunavir</td>\n",
       "      <td>3TKW</td>\n",
       "      <td>P03366</td>\n",
       "      <td>Kinetic</td>\n",
       "      <td>26</td>\n",
       "      <td>5.6</td>\n",
       "      <td>0.580</td>\n",
       "      <td>...</td>\n",
       "      <td>3.4561</td>\n",
       "      <td>C27 H37 N3 O7 S</td>\n",
       "      <td>8</td>\n",
       "      <td>3</td>\n",
       "      <td>11</td>\n",
       "      <td>13</td>\n",
       "      <td>4</td>\n",
       "      <td>223.657720718</td>\n",
       "      <td>140.42</td>\n",
       "      <td>HYDROLASE</td>\n",
       "    </tr>\n",
       "    <tr>\n",
       "      <th>4</th>\n",
       "      <td>I50V</td>\n",
       "      <td>A</td>\n",
       "      <td>017</td>\n",
       "      <td>Darunavir</td>\n",
       "      <td>3TKW</td>\n",
       "      <td>P03366</td>\n",
       "      <td>Kinetic</td>\n",
       "      <td>26</td>\n",
       "      <td>5.6</td>\n",
       "      <td>0.580</td>\n",
       "      <td>...</td>\n",
       "      <td>3.4561</td>\n",
       "      <td>C27 H37 N3 O7 S</td>\n",
       "      <td>8</td>\n",
       "      <td>3</td>\n",
       "      <td>11</td>\n",
       "      <td>13</td>\n",
       "      <td>4</td>\n",
       "      <td>223.657720718</td>\n",
       "      <td>140.42</td>\n",
       "      <td>HYDROLASE</td>\n",
       "    </tr>\n",
       "  </tbody>\n",
       "</table>\n",
       "<p>5 rows × 51 columns</p>\n",
       "</div>"
      ],
      "text/plain": [
       "    MUTATION AFFIN.CHAIN AFFIN.LIG_ID  \\\n",
       "0       I84V           A          017   \n",
       "1       V82A           A          017   \n",
       "2  D30N/N88D           A          017   \n",
       "3       G48V           A          017   \n",
       "4       I50V           A          017   \n",
       "\n",
       "                                      AFFIN.LIG_NAME AFFIN.PDB_ID MUT.UNIPROT  \\\n",
       "0  (3R,3AS,6AR)-HEXAHYDROFURO[2,3-B]FURAN-3- YL(1...         2IEN      P03367   \n",
       "1  (3R,3AS,6AR)-HEXAHYDROFURO[2,3-B]FURAN-3- YL(1...         2IEN      P03367   \n",
       "2                                          Darunavir         3LZV      P03369   \n",
       "3                                          Darunavir         3TKW      P03366   \n",
       "4                                          Darunavir         3TKW      P03366   \n",
       "\n",
       "  AFFIN.EXPTAL_METHOD AFFIN.TEMPERATURE AFFIN.PH  AFFIN.K_WT  \\\n",
       "0             kinetic                NR        5       1.000   \n",
       "1             kinetic                NR        5       1.000   \n",
       "2                 ITC                NR        5       0.004   \n",
       "3             Kinetic                26      5.6       0.580   \n",
       "4             Kinetic                26      5.6       0.580   \n",
       "\n",
       "         ...         LIG.LOGP      LIG.FORMULA  LIG.NUM_ACCEPTORS  \\\n",
       "0        ...           3.4561  C27 H37 N3 O7 S                  8   \n",
       "1        ...           3.4561  C27 H37 N3 O7 S                  8   \n",
       "2        ...           3.4561  C27 H37 N3 O7 S                  8   \n",
       "3        ...           3.4561  C27 H37 N3 O7 S                  8   \n",
       "4        ...           3.4561  C27 H37 N3 O7 S                  8   \n",
       "\n",
       "  LIG.NUM_DONORS LIG.NUM_HETEROATOMS LIG.NUM_ROTATABLE_BONDS LIG.NUM_RINGS  \\\n",
       "0              3                  11                      13             4   \n",
       "1              3                  11                      13             4   \n",
       "2              3                  11                      13             4   \n",
       "3              3                  11                      13             4   \n",
       "4              3                  11                      13             4   \n",
       "\n",
       "   LIG.LABUTE_ASA LIG.TPSA PROT.PROTEIN_CLASS  \n",
       "0   223.657720718   140.42          HYDROLASE  \n",
       "1   223.657720718   140.42          HYDROLASE  \n",
       "2   223.657720718   140.42          HYDROLASE  \n",
       "3   223.657720718   140.42          HYDROLASE  \n",
       "4   223.657720718   140.42          HYDROLASE  \n",
       "\n",
       "[5 rows x 51 columns]"
      ]
     },
     "execution_count": 7,
     "metadata": {},
     "output_type": "execute_result"
    }
   ],
   "source": [
    "df.head()"
   ]
  },
  {
   "cell_type": "code",
   "execution_count": 8,
   "metadata": {},
   "outputs": [
    {
     "data": {
      "text/plain": [
       "(1008, 51)"
      ]
     },
     "execution_count": 8,
     "metadata": {},
     "output_type": "execute_result"
    }
   ],
   "source": [
    "df.shape"
   ]
  },
  {
   "cell_type": "code",
   "execution_count": 9,
   "metadata": {},
   "outputs": [
    {
     "data": {
      "text/plain": [
       "Index(['MUTATION', 'AFFIN.CHAIN', 'AFFIN.LIG_ID', 'AFFIN.LIG_NAME',\n",
       "       'AFFIN.PDB_ID', 'MUT.UNIPROT', 'AFFIN.EXPTAL_METHOD',\n",
       "       'AFFIN.TEMPERATURE', 'AFFIN.PH', 'AFFIN.K_WT', 'AFFIN.K_MT',\n",
       "       'AFFIN.DELTA_K', 'AFFIN.FOLD_CHANGE', 'AFFIN.UNIT', 'MUT.MT_PDB',\n",
       "       'MUT.WT_PDB', 'MUT.IN_BINDING_SITE', 'MUT.DISTANCE_TO_LIG', 'MUT.DOI',\n",
       "       'MUT.PMID', 'MUT.IS_SINGLE_POINT', 'MUT.MCSM_PPI', 'MUT.DUET_STABILITY',\n",
       "       'MUT.RESIDUE_RSA', 'MUT.RESIDUE_SST', 'MUT.RESIDUE_HBOND',\n",
       "       ' PROT.MOLECULE_NAME', 'PROT.ORGANISM', 'PROT.RESOLUTION',\n",
       "       'PROT.R_VALUE', 'PROT.R_FREE', 'PROT.PH', 'PROT.TEMPERATURE',\n",
       "       'PROT.EXPTAL_METHOD', 'PROT.STOICHIOMETRY', 'LIG.PDBE',\n",
       "       'LIG.CANONICAL_SMILES', 'LIG.POLYMER_TYPE', 'LIG.TYPE_DESCRIPTION',\n",
       "       'LIG.MOL_WEIGHT', 'LIG.ATOM_COUNT', 'LIG.LOGP', 'LIG.FORMULA',\n",
       "       'LIG.NUM_ACCEPTORS', 'LIG.NUM_DONORS', 'LIG.NUM_HETEROATOMS',\n",
       "       'LIG.NUM_ROTATABLE_BONDS', 'LIG.NUM_RINGS', 'LIG.LABUTE_ASA',\n",
       "       'LIG.TPSA', 'PROT.PROTEIN_CLASS'],\n",
       "      dtype='object')"
      ]
     },
     "execution_count": 9,
     "metadata": {},
     "output_type": "execute_result"
    }
   ],
   "source": [
    "df.columns"
   ]
  },
  {
   "cell_type": "code",
   "execution_count": null,
   "metadata": {},
   "outputs": [],
   "source": [
    "p"
   ]
  }
 ],
 "metadata": {
  "kernelspec": {
   "display_name": "Python 3",
   "language": "python",
   "name": "python3"
  },
  "language_info": {
   "codemirror_mode": {
    "name": "ipython",
    "version": 3
   },
   "file_extension": ".py",
   "mimetype": "text/x-python",
   "name": "python",
   "nbconvert_exporter": "python",
   "pygments_lexer": "ipython3",
   "version": "3.6.5"
  }
 },
 "nbformat": 4,
 "nbformat_minor": 2
}
